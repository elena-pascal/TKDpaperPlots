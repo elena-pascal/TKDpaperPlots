{
 "cells": [
  {
   "cell_type": "code",
   "execution_count": 2,
   "metadata": {
    "collapsed": false,
    "deletable": true,
    "editable": true
   },
   "outputs": [],
   "source": [
    "import sys\n",
    "import h5py\n",
    "import pylab\n",
    "\n",
    "import numpy as np\n",
    " \n",
    "import plotly.plotly as py\n",
    "import plotly.graph_objs as go\n",
    "\n",
    "import scipy.stats as st      \n",
    "from scipy import interpolate\n",
    "from scipy.optimize import curve_fit\n",
    "from scipy.misc import factorial\n",
    "\n",
    "import matplotlib.pyplot as plt  "
   ]
  },
  {
   "cell_type": "markdown",
   "metadata": {},
   "source": [
    "### Colors"
   ]
  },
  {
   "cell_type": "code",
   "execution_count": 3,
   "metadata": {
    "collapsed": true,
    "deletable": true,
    "editable": true
   },
   "outputs": [],
   "source": [
    "purples=[[0.0,   '#fcf9f7'],\n",
    " [0.1666666666666666, '#edcfc9'],\n",
    " [0.3333333333333333, '#daa2ac'],\n",
    " [0.5,                '#bc7897'],\n",
    " [0.6666666666666666, '#925684'],\n",
    " [0.8333333333333333, '#5f3868'],\n",
    " [1.0,                '#2d1e3e']]"
   ]
  },
  {
   "cell_type": "markdown",
   "metadata": {},
   "source": [
    "### Read EBSD .h5 file"
   ]
  },
  {
   "cell_type": "code",
   "execution_count": 10,
   "metadata": {
    "collapsed": false,
    "deletable": true,
    "editable": true
   },
   "outputs": [],
   "source": [
    "EBSDfileName = 'Si-EBSDmaster-20kV.h5'\n",
    "\n",
    "#open file to read only\n",
    "EBSDfile = h5py.File(EBSDfileName, 'r')\n",
    "\n",
    "\n",
    "#save the energy bin electron matrix\n",
    "EBSD_energy_data = np.zeros([11,2001,2001])\n",
    "\n",
    "#energy loss spectra\n",
    "EBSD_Elost = np.zeros(11)\n",
    "\n",
    "for i in range(0, 11):\n",
    "    dataset =  EBSDfile['EMData']['EBSDmaster']['masterSPSH'][...][i,:,:]\n",
    "    EBSD_energy_data[i,:,:] = dataset\n",
    "    \n",
    "    EBSD_Elost[i] = EBSD_energy_data[i,:,:].sum()\n",
    "EBSDfile.close()    \n"
   ]
  },
  {
   "cell_type": "markdown",
   "metadata": {},
   "source": [
    "### Read ECP .h5 file"
   ]
  },
  {
   "cell_type": "code",
   "execution_count": 1,
   "metadata": {
    "collapsed": false,
    "deletable": true,
    "editable": true
   },
   "outputs": [
    {
     "ename": "NameError",
     "evalue": "name 'h5py' is not defined",
     "output_type": "error",
     "traceback": [
      "\u001b[0;31m---------------------------------------------------------------------------\u001b[0m",
      "\u001b[0;31mNameError\u001b[0m                                 Traceback (most recent call last)",
      "\u001b[0;32m<ipython-input-1-a0d0d6242e9b>\u001b[0m in \u001b[0;36m<module>\u001b[0;34m()\u001b[0m\n\u001b[1;32m      2\u001b[0m \u001b[0;34m\u001b[0m\u001b[0m\n\u001b[1;32m      3\u001b[0m \u001b[0;31m#open file to read only\u001b[0m\u001b[0;34m\u001b[0m\u001b[0;34m\u001b[0m\u001b[0m\n\u001b[0;32m----> 4\u001b[0;31m \u001b[0mECPfile\u001b[0m \u001b[0;34m=\u001b[0m \u001b[0mh5py\u001b[0m\u001b[0;34m.\u001b[0m\u001b[0mFile\u001b[0m\u001b[0;34m(\u001b[0m\u001b[0mECPfileName\u001b[0m\u001b[0;34m,\u001b[0m \u001b[0;34m'r'\u001b[0m\u001b[0;34m)\u001b[0m\u001b[0;34m\u001b[0m\u001b[0m\n\u001b[0m\u001b[1;32m      5\u001b[0m \u001b[0;34m\u001b[0m\u001b[0m\n\u001b[1;32m      6\u001b[0m \u001b[0;34m\u001b[0m\u001b[0m\n",
      "\u001b[0;31mNameError\u001b[0m: name 'h5py' is not defined"
     ]
    }
   ],
   "source": [
    "ECPfileName = 'Si-ECPmaster-20kV.h5'\n",
    "\n",
    "#open file to read only\n",
    "ECPfile = h5py.File(ECPfileName, 'r')\n",
    "\n",
    "\n",
    "#save the energy bin electron matrix\n",
    "ECP_energy_data = np.zeros([1,2001,2001])\n",
    "\n",
    "#energy loss spectra\n",
    "ECP_Elost = np.zeros(16)\n",
    "\n",
    "for i in range(0, 1):\n",
    "    dataset =  ECPfile['EMData']['ECPmaster']['masterSPSH'][...][i,:,:]\n",
    "    ECP_energy_data[i,:,:] = dataset\n",
    "    \n",
    "    ECP_Elost[15-i] = ECP_energy_data[i,:,:].sum()\n",
    "\n",
    "ECPfile.close()  \n"
   ]
  },
  {
   "cell_type": "markdown",
   "metadata": {},
   "source": [
    "### Read TKD .h5 files"
   ]
  },
  {
   "cell_type": "code",
   "execution_count": 12,
   "metadata": {
    "collapsed": false,
    "deletable": true,
    "editable": true
   },
   "outputs": [
    {
     "name": "stdout",
     "output_type": "stream",
     "text": [
      "[       0.               0.               0.               0.               0.\n",
      "        0.               0.               0.               0.               0.\n",
      "        0.               0.               0.               0.               0.\n",
      "  5021926.3039988]\n",
      "[ 1.  0.  0.  0.  0.  0.  0.  0.  0.  0.  0.  0.  0.  0.  0.  0.]\n"
     ]
    }
   ],
   "source": [
    "TKD50fileName = 'Si-TKDmaster50-20kV.h5'\n",
    "\n",
    "#open file to read only\n",
    "TKD50file = h5py.File(TKD50fileName, 'r')\n",
    "\n",
    "\n",
    "#save the energy bin electron matrix\n",
    "TKD50_energy_data = np.zeros([16,2001,2001])\n",
    "\n",
    "#energy loss spectra\n",
    "TKD50_Elost = np.zeros(16)\n",
    "\n",
    "for i in range(0, 16):\n",
    "    dataset =  TKD50file['EMData']['TKDmaster']['masterSPSH'][...][i,:,:]\n",
    "    TKD50_energy_data[i,:,:] = dataset\n",
    "\n",
    "    TKD50_Elost[i] = TKD50_energy_data[i,:,:].sum()\n",
    "TKD50file.close() \n",
    "\n"
   ]
  },
  {
   "cell_type": "code",
   "execution_count": 13,
   "metadata": {
    "collapsed": false,
    "deletable": true,
    "editable": true
   },
   "outputs": [
    {
     "name": "stdout",
     "output_type": "stream",
     "text": [
      "[  0.00000000e+00   0.00000000e+00   0.00000000e+00   0.00000000e+00\n",
      "   0.00000000e+00   0.00000000e+00   3.12787758e+00   5.95815633e+01\n",
      "   2.80242582e+02   6.77025059e+02   1.47638422e+03   3.14181636e+03\n",
      "   6.78813887e+03   1.99274997e+04   2.38454155e+06   1.66763398e+05]\n"
     ]
    }
   ],
   "source": [
    "TKD250fileName = 'Si-TKDmaster250-20kV.h5'\n",
    "\n",
    "#open file to read only\n",
    "TKD250file = h5py.File(TKD250fileName, 'r')\n",
    "\n",
    "\n",
    "#save the energy bin electron matrix\n",
    "TKD250_energy_data = np.zeros([16,2001,2001])\n",
    "\n",
    "#energy loss spectra\n",
    "TKD250_Elost = np.zeros(16)\n",
    "\n",
    "for i in range(0, 16):\n",
    "    dataset =  TKD250file['EMData']['TKDmaster']['masterSPSH'][...][i,:,:]\n",
    "    TKD250_energy_data[i,:,:] = dataset\n",
    "    \n",
    "    TKD250_Elost[i] = TKD250_energy_data[i,:,:].sum()\n",
    "\n",
    "TKD250file.close() \n",
    "\n"
   ]
  },
  {
   "cell_type": "code",
   "execution_count": 14,
   "metadata": {
    "collapsed": false,
    "deletable": true,
    "editable": true
   },
   "outputs": [
    {
     "data": {
      "text/html": [
       "<iframe id=\"igraph\" scrolling=\"no\" style=\"border:none;\" seamless=\"seamless\" src=\"https://plot.ly/~elena.pascal/996.embed\" height=\"525px\" width=\"100%\"></iframe>"
      ],
      "text/plain": [
       "<plotly.tools.PlotlyDisplay object>"
      ]
     },
     "execution_count": 14,
     "metadata": {},
     "output_type": "execute_result"
    }
   ],
   "source": [
    "#energy loss spectra with data from h5 file\n",
    "traces = dict()\n",
    "\n",
    "traces[str(0)] = go.Scatter(x=np.arange(11), y=ECP_Elost[::-1]/np.amax(ECP_Elost), name='ECP' )\n",
    "\n",
    "traces[str(1)] = go.Scatter(x=np.arange(16), y=TKD50_Elost[::-1]/np.amax(TKD50_Elost), name='TKD 50' )\n",
    "traces[str(2)] = go.Scatter(x=np.arange(16), y=TKD250_Elost[::-1]/np.amax(TKD250_Elost), name='TKD 250' )\n",
    "traces[str(3)] = go.Scatter(x=np.arange(16), y=EBSD_Elost[::-1]/np.amax(EBSD_Elost), name='EBSD' )\n",
    "\n",
    "data50 = [traces[str(3)]]\n",
    "data = [traces[str(i)] for i in range(4)]\n",
    "\n",
    "fig = go.Figure(data=data)\n",
    "py.iplot(fig, filename='Si energy loss')"
   ]
  },
  {
   "cell_type": "markdown",
   "metadata": {
    "deletable": true,
    "editable": true
   },
   "source": [
    "### Read TKD energy data from .txt file and bin data\n",
    "#### Unlike the .h5 file which contains already binned values, we sampled here 10,000 last elastic scattering energies so we can have a closer look at their distribution."
   ]
  },
  {
   "cell_type": "code",
   "execution_count": 19,
   "metadata": {
    "collapsed": false,
    "deletable": true,
    "editable": true
   },
   "outputs": [
    {
     "name": "stdout",
     "output_type": "stream",
     "text": [
      "[ 7742.  2246.     0.     0.     0.     0.     0.     0.     0.     0.\n",
      "     0.]\n",
      "\n"
     ]
    }
   ],
   "source": [
    "energy_TKD50 = []\n",
    "\n",
    "TKD50 = 'TKD_Si50_10000.txt'\n",
    "\n",
    "with open(TKD50, \"r\") as dataTKD50:\n",
    "    for line in dataTKD50: #read one line at a time\n",
    "        if ('Total' not in line) and ('Number' not in line): \n",
    "            column = line.replace(':',' ').replace(',',' ').split()\n",
    "            energy_TKD50.append(float(column[1]))\n",
    "\n",
    "      \n",
    "        \n",
    "# the bins should be of integer width, because poisson is a discrete distribution\n",
    "TKD50_lost_renorm = [(20. - e) for e in energy_TKD50] \n",
    "entries_50, bin_edges, patches = plt.hist(TKD50_lost_renorm, bins=11, range=[-0.5, 10.5])\n",
    "\n",
    "print entries_50\n"
   ]
  },
  {
   "cell_type": "code",
   "execution_count": 20,
   "metadata": {
    "collapsed": false,
    "deletable": true,
    "editable": true
   },
   "outputs": [
    {
     "name": "stdout",
     "output_type": "stream",
     "text": [
      "[   31.  6732.  2229.   654.   280.    72.     0.     0.     0.     0.\n",
      "     0.]\n",
      "\n"
     ]
    }
   ],
   "source": [
    "energy_TKD250 = []\n",
    "\n",
    "TKD250 = 'TKD_Si250_10000.txt'\n",
    "\n",
    "with open(TKD250, \"r\") as dataTKD250:\n",
    "    for line in dataTKD250: #read one line at a time\n",
    "        if ('Total' not in line) and ('Number' not in line): \n",
    "            column = line.replace(':',' ').replace(',',' ').split()\n",
    "            energy_TKD250.append(float(column[1]))\n",
    "\n",
    "  \n",
    "        \n",
    "# the bins should be of integer width, because poisson is a discrete distribution\n",
    "TKD250_lost_renorm = [(20. - e) for e in energy_TKD250] \n",
    "entries_250, bin_edges, patches = plt.hist(TKD250_lost_renorm, bins=11, range=[-0.5, 10.5])\n",
    "\n",
    "print entries_250\n"
   ]
  },
  {
   "cell_type": "markdown",
   "metadata": {},
   "source": [
    "#### Energy ditribution for TKD will not look very smooth since the statistical distribution is limited by the thinnes of the samples. We decide here to fit the physically expected curve to this data."
   ]
  },
  {
   "cell_type": "code",
   "execution_count": 21,
   "metadata": {
    "collapsed": true,
    "deletable": true,
    "editable": true
   },
   "outputs": [],
   "source": [
    "# Poisson fit function, parameter lamb is the fit parameter\n",
    "def poisson(k, lamb):\n",
    "    return (lamb**k/factorial(k)) * np.exp(-lamb)\n"
   ]
  },
  {
   "cell_type": "code",
   "execution_count": 26,
   "metadata": {
    "collapsed": false,
    "deletable": true,
    "editable": true
   },
   "outputs": [],
   "source": [
    "traces = dict()\n",
    "\n",
    "# x_axis \"bin\" values\n",
    "bin_middles = np.arange(0, 11, 1)\n",
    " \n",
    "\n",
    "#EBSD\n",
    "\n",
    "# fit Poisson funciton with curve_fit\n",
    "parameters, cov_matrix = curve_fit(poisson, bin_middles, EBSD_Elost[::-1]/np.amax(EBSD_Elost)) \n",
    "\n",
    "# plot poisson-deviation with fitted parameter\n",
    "x_plot = np.linspace(0, 6, 100)\n",
    "\n",
    "y_new = poisson(x_plot, *parameters)\n",
    "max_y_new =  np.amax(y_new)\n",
    "y_norm = y_new/max_y_new\n",
    "\n",
    "traces[str(0)] = go.Scatter(x=x_plot, y=y_norm, name='<b>EBSD<b>', fill='tozeroy', marker =dict(color='rgb(189,189,189)'), opacity=0.05)\n",
    "\n",
    "\n",
    "#ECP - almost one energy\n",
    "\n",
    "ecp_data = [1., 0., 0., 0., 0., 0., 0., 0., 0., 0., 0., ]\n",
    "# fit with curve_fit\n",
    "\n",
    "parameters, cov_matrix = curve_fit(poisson, bin_middles, ecp_data) \n",
    "\n",
    "# plot poisson-deviation with fitted parameter\n",
    "x_plot = np.linspace(0, 6, 100)\n",
    "\n",
    "y_new = poisson(x_plot, *parameters)\n",
    "max_y_new =  np.amax(y_new)\n",
    "y_norm = y_new/max_y_new\n",
    "\n",
    "traces[str(3)] = go.Scatter(x=x_plot, y=y_norm, name='<b>ECP<b>',  fill='tozeroy',marker =dict(color='rgb(99,99,99)'), opacity=0.3 )"
   ]
  },
  {
   "cell_type": "code",
   "execution_count": 29,
   "metadata": {
    "collapsed": false,
    "deletable": true,
    "editable": true
   },
   "outputs": [],
   "source": [
    "   \n",
    "# fit with curve_fit\n",
    "parameters, cov_matrix = curve_fit(poisson, bin_middles, entries_50/np.sum(entries_50)) \n",
    "\n",
    "# plot poisson-deviation with fitted parameter\n",
    "x_plot = np.linspace(0, 6, 100)\n",
    "\n",
    "y_new = poisson(x_plot, *parameters)\n",
    "max_y_new =  np.amax(y_new)\n",
    "y_norm = y_new/max_y_new\n",
    "\n",
    "\n",
    "traces[str(2)] = go.Scatter(x=x_plot, y=y_norm, name='<b>TKD 50 nm<b>',\n",
    "                                 line = dict(color='#5f3868',\n",
    "                                            width = 2.2),\n",
    "                                      opacity =  0.8\n",
    "                    )\n",
    "\n",
    "# fit with curve_fit\n",
    "parameters, cov_matrix = curve_fit(poisson, bin_middles, entries_250/np.sum(entries_250)) \n",
    "\n",
    "# plot poisson-deviation with fitted parameter\n",
    "x_plot = np.linspace(0, 6, 100)\n",
    "\n",
    "y_new = poisson(x_plot, *parameters)\n",
    "max_y_new =  np.amax(y_new)\n",
    "y_norm = y_new/max_y_new\n",
    "\n",
    "\n",
    "traces[str(1)] = go.Scatter(x=x_plot, y=y_norm, name='<b>TKD 250 nm<b>', \n",
    "                                line = dict(color='#daa2ac',\n",
    "                                            width = 2.4),\n",
    "                                      opacity =  0.8)\n",
    "\n",
    "\n",
    "\n",
    "\n"
   ]
  },
  {
   "cell_type": "code",
   "execution_count": 31,
   "metadata": {
    "collapsed": false,
    "deletable": true,
    "editable": true
   },
   "outputs": [
    {
     "data": {
      "text/html": [
       "<iframe id=\"igraph\" scrolling=\"no\" style=\"border:none;\" seamless=\"seamless\" src=\"https://plot.ly/~elena.pascal/1000.embed\" height=\"400px\" width=\"700px\"></iframe>"
      ],
      "text/plain": [
       "<plotly.tools.PlotlyDisplay object>"
      ]
     },
     "execution_count": 31,
     "metadata": {},
     "output_type": "execute_result"
    }
   ],
   "source": [
    "\n",
    "data = [traces[str(i)] for i in range(4)]\n",
    "\n",
    "\n",
    "layout = go.Layout(\n",
    "    autosize=False,\n",
    "    width=700,\n",
    "    height=400,\n",
    "\n",
    "    xaxis=dict(\n",
    "        titlefont=dict(\n",
    "          family='Times New Roman',\n",
    "          size=18\n",
    "        ),\n",
    "        range=[0, 4],\n",
    "        title='<b>Energy lost spectrum (keV)<b>', \n",
    "        showgrid=False,\n",
    "        showline=True,\n",
    "        ticks='inside',\n",
    "        ticktext=['<b>0<b>','<b>1<b>','<b>2<b>', '<b>3<b>', '<b>4<b>', '<b>5<b>', '<b>6<b>' ], \n",
    "        tickvals=[0, 1, 2, 3, 4, 5, 6],\n",
    "        zeroline=False,\n",
    "        mirror=\"ticks\",\n",
    "        tickfont=dict(\n",
    "          family='Times New Roman',\n",
    "          size=17\n",
    "        ),\n",
    "    ),\n",
    "    yaxis=dict(\n",
    "        titlefont=dict(\n",
    "        family='Times New Roman',\n",
    "        size=18\n",
    "        ),\n",
    "        range=[0, 1.2],\n",
    "        mirror=\"ticks\",\n",
    "        showgrid=False,\n",
    "        showline=True,\n",
    "        title='<b>Normalised intensity (a. u.)<b>', \n",
    "        ticks='inside',\n",
    "        #ticktext=['<b>0.25<b>','<b>0.5<b>', '<b>0.75<b>', '<b>1<b>' ], \n",
    "        tickvals=[1.5],\n",
    "        tickfont=dict(\n",
    "          family='Times New Roman',\n",
    "          size=16\n",
    "        ),\n",
    "    ),\n",
    "    legend=dict(\n",
    "          x=9.01, y=0.9,\n",
    "          font= dict(\n",
    "              family='Times New Roman',\n",
    "              size=18)\n",
    "     ),\n",
    "    showlegend=False,\n",
    "    paper_bgcolor='rgba(0,0,0,0)',\n",
    "    plot_bgcolor='rgba(0,0,0,0)'\n",
    "    \n",
    ")\n",
    "\n",
    "fig = go.Figure(data=data, layout=layout)\n",
    "py.iplot(fig, filename='Si Poisson TKD')\n",
    "#py.image.save_as(fig, filename='Si_energyLossSpectra.pdf')"
   ]
  },
  {
   "cell_type": "code",
   "execution_count": 34,
   "metadata": {
    "collapsed": false,
    "deletable": true,
    "editable": true
   },
   "outputs": [
    {
     "data": {
      "text/html": [
       "<iframe id=\"igraph\" scrolling=\"no\" style=\"border:none;\" seamless=\"seamless\" src=\"https://plot.ly/~elena.pascal/986.embed\" height=\"500px\" width=\"500px\"></iframe>"
      ],
      "text/plain": [
       "<plotly.tools.PlotlyDisplay object>"
      ]
     },
     "execution_count": 34,
     "metadata": {},
     "output_type": "execute_result"
    }
   ],
   "source": [
    "trace_EBSD = go.Heatmap(z=EBSD_energy_data[:,1100:1600,1100:1600].sum(axis=0), colorscale='RdBu')\n",
    "trace_EBSD_g = go.Heatmap(z=EBSD_energy_data[:,1100:1600,1100:1600].sum(axis=0), colorscale='Greys')\n",
    "\n",
    "\n",
    "data_EBSD=[trace_EBSD_g]\n",
    "\n",
    "layout = go.Layout(\n",
    "    autosize=False,\n",
    "    width=500,\n",
    "    height=500\n",
    ")\n",
    "fig_EBSD=go.Figure(data=data_EBSD, layout=layout)\n",
    "\n",
    "py.iplot(fig_EBSD, filename='EBSD')   \n",
    "#py.image.save_as(fig_EBSD, filename='TKDpaper/EBSDmap_g.pdf')"
   ]
  },
  {
   "cell_type": "code",
   "execution_count": 35,
   "metadata": {
    "collapsed": false,
    "deletable": true,
    "editable": true
   },
   "outputs": [
    {
     "data": {
      "text/html": [
       "<iframe id=\"igraph\" scrolling=\"no\" style=\"border:none;\" seamless=\"seamless\" src=\"https://plot.ly/~elena.pascal/988.embed\" height=\"500px\" width=\"500px\"></iframe>"
      ],
      "text/plain": [
       "<plotly.tools.PlotlyDisplay object>"
      ]
     },
     "execution_count": 35,
     "metadata": {},
     "output_type": "execute_result"
    }
   ],
   "source": [
    "trace_ECP_rb = go.Heatmap(z=ECP_energy_data[:,1100:1600,1100:1600].sum(axis=0), colorscale='RdBu')\n",
    "trace_ECP_g = go.Heatmap(z=ECP_energy_data[:,1100:1600,1100:1600].sum(axis=0), colorscale='Greys')\n",
    "\n",
    "\n",
    "data_ECP=[trace_ECP_g]\n",
    "\n",
    "layout = go.Layout(\n",
    "    autosize=False,\n",
    "    width=500,\n",
    "    height=500\n",
    ")\n",
    "fig_ECP=go.Figure(data=data_ECP, layout=layout)\n",
    "\n",
    "py.iplot(fig_ECP, filename='ECP')   \n",
    "#py.image.save_as(fig_ECP, filename='TKDpaper/ECPmap_g.pdf')"
   ]
  },
  {
   "cell_type": "code",
   "execution_count": 36,
   "metadata": {
    "collapsed": false,
    "deletable": true,
    "editable": true
   },
   "outputs": [
    {
     "data": {
      "text/html": [
       "<iframe id=\"igraph\" scrolling=\"no\" style=\"border:none;\" seamless=\"seamless\" src=\"https://plot.ly/~elena.pascal/1002.embed\" height=\"500px\" width=\"500px\"></iframe>"
      ],
      "text/plain": [
       "<plotly.tools.PlotlyDisplay object>"
      ]
     },
     "execution_count": 36,
     "metadata": {},
     "output_type": "execute_result"
    }
   ],
   "source": [
    "trace_TKD50_rb = go.Heatmap(z=TKD50_energy_data[15:,1100:1600,1100:1600].sum(axis=0), colorscale=purples, reversescale=True, zauto=False, zmax=4.5)\n",
    "trace_TKD50_g = go.Heatmap(z=TKD50_energy_data[15:,1100:1600,1100:1600].sum(axis=0), colorscale='Greys')\n",
    "\n",
    "\n",
    "data_TKD50=[trace_TKD50_rb]\n",
    "\n",
    "layout = go.Layout(\n",
    "    autosize=False,\n",
    "    width=500,\n",
    "    height=500\n",
    ")\n",
    "fig_TKD50=go.Figure(data=data_TKD50, layout=layout)\n",
    "\n",
    "py.iplot(fig_TKD50, filename='TKD50')   \n",
    "#py.image.save_as(fig_TKD50, filename='TKDpaper/TKD50map_purples.pdf')"
   ]
  },
  {
   "cell_type": "code",
   "execution_count": 37,
   "metadata": {
    "collapsed": false,
    "deletable": true,
    "editable": true
   },
   "outputs": [
    {
     "data": {
      "text/html": [
       "<iframe id=\"igraph\" scrolling=\"no\" style=\"border:none;\" seamless=\"seamless\" src=\"https://plot.ly/~elena.pascal/992.embed\" height=\"500px\" width=\"500px\"></iframe>"
      ],
      "text/plain": [
       "<plotly.tools.PlotlyDisplay object>"
      ]
     },
     "execution_count": 37,
     "metadata": {},
     "output_type": "execute_result"
    }
   ],
   "source": [
    "trace_TKD250_rb = go.Heatmap(z=TKD250_energy_data[12:,1100:1600,1100:1600].sum(axis=0), colorscale=purples, reversescale=True, zauto=False, zmax=4.5)\n",
    "trace_TKD250_g = go.Heatmap(z=TKD250_energy_data[12:,1100:1600,1100:1600].sum(axis=0), colorscale='Greys')\n",
    "\n",
    "\n",
    "data_TKD250=[trace_TKD250_rb]\n",
    "\n",
    "layout = go.Layout(\n",
    "    autosize=False,\n",
    "    width=500,\n",
    "    height=500\n",
    ")\n",
    "fig_TKD250=go.Figure(data=data_TKD250, layout=layout)\n",
    "\n",
    "py.iplot(fig_TKD250, filename='TKD250')   \n",
    "#py.image.save_as(fig_TKD250, filename='TKDpaper/TKD250map_purple.pdf')"
   ]
  },
  {
   "cell_type": "code",
   "execution_count": 38,
   "metadata": {
    "collapsed": false,
    "deletable": true,
    "editable": true
   },
   "outputs": [
    {
     "data": {
      "text/html": [
       "<iframe id=\"igraph\" scrolling=\"no\" style=\"border:none;\" seamless=\"seamless\" src=\"https://plot.ly/~elena.pascal/1004.embed\" height=\"500px\" width=\"700px\"></iframe>"
      ],
      "text/plain": [
       "<plotly.tools.PlotlyDisplay object>"
      ]
     },
     "execution_count": 38,
     "metadata": {},
     "output_type": "execute_result"
    }
   ],
   "source": [
    "#plot\n",
    "tracesScan = dict()\n",
    "\n",
    "xRange = 140\n",
    "EBSD = EBSD_energy_data[0:,1420:1560,1350:1351].sum(axis=0)\n",
    "\n",
    "tracesScan[str(0)] = go.Scatter(x=np.arange(xRange), y=(EBSD[:,0]-np.min(EBSD[:,0]))/np.amax(EBSD[:,0]-np.min(EBSD[:,0])),\n",
    "                                                      name='EBSD', marker = dict(color = 'Black'),\n",
    "                                opacity=0.8\n",
    ")\n",
    "\n",
    "ECP = ECP_energy_data[0:,1420:1560,1350:1351].sum(axis=0)\n",
    "tracesScan[str(1)] = go.Scatter(x=np.arange(xRange), y=(ECP[:,0]-np.min(ECP[:,0]))/np.amax(ECP[:,0]-np.min(ECP[:,0]))+1.4, \n",
    "                                                   name='ECP', marker = dict(color = 'Black'),\n",
    "                                                                             opacity=0.8\n",
    "                               )                             \n",
    "TKD50 = TKD50_energy_data[15:,1420:1560,1350:1351].sum(axis=0)\n",
    "tracesScan[str(2)] = go.Scatter(x=np.arange(xRange), y=(TKD50[:,0]-np.min(TKD50[:,0]))/np.amax(TKD50[:,0]-np.min(TKD50[:,0]))+0.8,\n",
    "                                                name='TKD50',marker = dict(color = '#5f3868'),  \n",
    "                                                             opacity=0.8\n",
    "                               )                              \n",
    "                                \n",
    "\n",
    "TKD250 = TKD250_energy_data[0:,1420:1560,1350:1351].sum(axis=0)\n",
    "tracesScan[str(3)] = go.Scatter(x=np.arange(xRange), y=(TKD250[:,0]-np.min(TKD250[:,0]))/np.amax(TKD250[:,0]-np.min(TKD250[:,0]))+0.4,\n",
    "                                                name='TKD250' , marker = dict(color = '#daa2ac' ), \n",
    "                                                                              opacity=1\n",
    "                               )\n",
    "\n",
    "dataScan = [tracesScan[str(i)] for i in range(4)]\n",
    "\n",
    "\n",
    "\n",
    "\n",
    "layout = go.Layout(\n",
    "    autosize=False,\n",
    "    width=700,\n",
    "    height=500,\n",
    "\n",
    "    xaxis=dict(\n",
    "        titlefont=dict(\n",
    "          family='Times New Roman',\n",
    "          size=18\n",
    "        ),\n",
    "        range=[0, 139],\n",
    "        title='<b>Position (pixels)<b>', \n",
    "        #showgrid=False,\n",
    "        showline=True,\n",
    "        ticks='inside',\n",
    "        ticktext=['<b>0<b>','<b>20<b>','<b>40<b>', '<b>60<b>', '<b>80<b>', '<b>100<b>', '<b>120<b>' ], \n",
    "        tickvals=[0, 20, 40, 60, 80, 100, 120],\n",
    "        zeroline=False,\n",
    "        mirror=\"ticks\",\n",
    "        tickfont=dict(\n",
    "          family='Times New Roman',\n",
    "          size=16\n",
    "        ),\n",
    "    ),\n",
    "    yaxis=dict(\n",
    "        titlefont=dict(\n",
    "        family='Times New Roman',\n",
    "        size=18\n",
    "        ),\n",
    "        range=[-0.2, 2.7],\n",
    "        mirror=\"ticks\",\n",
    "        #showgrid=False,\n",
    "        showline=True,\n",
    "        title='<b>Normalised intensity (a. u.)<b>', \n",
    "        ticks='inside',\n",
    "        #ticktext=['<b>0.25<b>','<b>0.5<b>', '<b>0.75<b>', '<b>1<b>' ], \n",
    "        tickvals=[3],\n",
    "        tickfont=dict(\n",
    "          family='Times New Roman',\n",
    "          size=16\n",
    "        ),\n",
    "    ),\n",
    "    legend=dict(\n",
    "          x=9.01, y=0.9,\n",
    "          font= dict(\n",
    "              family='Times New Roman',\n",
    "              size=14)\n",
    "     ),\n",
    "    showlegend=False,\n",
    "    paper_bgcolor='rgba(0,0,0,0)',\n",
    "    plot_bgcolor='rgba(0,0,0,0)'\n",
    "    \n",
    ")\n",
    "\n",
    "\n",
    "figScan = go.Figure(data=dataScan, layout=layout)\n",
    "py.iplot(figScan, filename='Siscan')\n",
    "#py.image.save_as(figScan, filename='SiScan.pdf')"
   ]
  }
 ],
 "metadata": {
  "kernelspec": {
   "display_name": "Python 2",
   "language": "python",
   "name": "python2"
  },
  "language_info": {
   "codemirror_mode": {
    "name": "ipython",
    "version": 2
   },
   "file_extension": ".py",
   "mimetype": "text/x-python",
   "name": "python",
   "nbconvert_exporter": "python",
   "pygments_lexer": "ipython2",
   "version": "2.7.12"
  }
 },
 "nbformat": 4,
 "nbformat_minor": 2
}
