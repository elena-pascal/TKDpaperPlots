{
 "cells": [
  {
   "cell_type": "markdown",
   "metadata": {
    "deletable": true,
    "editable": true
   },
   "source": [
    "### This notebook can read a TKD txt file contining exit energies and depths and plot energy-depth KDE distributions"
   ]
  },
  {
   "cell_type": "code",
   "execution_count": 1,
   "metadata": {
    "collapsed": true,
    "deletable": true,
    "editable": true
   },
   "outputs": [],
   "source": [
    "import sys\n",
    "import h5py\n",
    "import pylab\n",
    "\n",
    "import numpy as np\n",
    " \n",
    "import plotly.plotly as py\n",
    "import plotly.graph_objs as go\n",
    "\n",
    "import scipy.stats as st      \n",
    "from scipy import interpolate"
   ]
  },
  {
   "cell_type": "code",
   "execution_count": 3,
   "metadata": {
    "collapsed": false,
    "deletable": true,
    "editable": true
   },
   "outputs": [
    {
     "name": "stdout",
     "output_type": "stream",
     "text": [
      "reading file TKDpaper/txt_files/Ik1_Ez_ondet_0tilt_10000.txt ......\n",
      "reading file TKDpaper/txt_files/Ik2_Ez_ondet_0tilt_10000.txt ......\n"
     ]
    }
   ],
   "source": [
    "energy1 = []\n",
    "depth1 = []\n",
    "\n",
    "fileName1 = 'TKDpaper/txt_files/Ik1_Ez_ondet_0tilt_10000.txt' \n",
    "print 'reading file', fileName1, '......'\n",
    "\n",
    "with open(fileName1, \"r\") as data:\n",
    "    for line in data: #read one line at a time\n",
    "        if ('Total' not in line) and ('Number' not in line): \n",
    "            column = line.replace(':',' ').replace(',',' ').split()\n",
    "            energy1.append(float(column[1]))\n",
    "            depth1.append(float(column[2]))\n",
    "\n",
    "energy2 = []\n",
    "depth2 = []            \n",
    "            \n",
    "fileName2 = 'TKDpaper/txt_files/Ik2_Ez_ondet_0tilt_10000.txt' \n",
    "print 'reading file', fileName2, '......'\n",
    "\n",
    "with open(fileName2, \"r\") as data:\n",
    "    for line in data: #read one line at a time\n",
    "        if ('Total' not in line) and ('Number' not in line): \n",
    "            column = line.replace(':',' ').replace(',',' ').split()\n",
    "            energy2.append(float(column[1]))\n",
    "            depth2.append(float(column[2]))\n",
    "      "
   ]
  },
  {
   "cell_type": "code",
   "execution_count": 10,
   "metadata": {
    "collapsed": false,
    "deletable": true,
    "editable": true
   },
   "outputs": [
    {
     "name": "stdout",
     "output_type": "stream",
     "text": [
      "reading file TKDpaper/txt_files/Ik1_Ez_ondet_20tilt_10000.txt ......\n",
      "reading file TKDpaper/txt_files/Ik2_Ez_ondet_20tilt_10000.txt ......\n"
     ]
    }
   ],
   "source": [
    "energy3 = []\n",
    "depth3 = []            \n",
    "            \n",
    "fileName3 = 'TKDpaper/txt_files/Ik1_Ez_ondet_20tilt_10000.txt' \n",
    "print 'reading file', fileName3, '......'\n",
    "\n",
    "with open(fileName3, \"r\") as data:\n",
    "    for line in data: #read one line at a time\n",
    "        if ('Total' not in line) and ('Number' not in line): \n",
    "            column = line.replace(':',' ').replace(',',' ').split()\n",
    "            energy3.append(float(column[1]))\n",
    "            depth3.append(float(column[2]))\n",
    "            \n",
    "            \n",
    "energy4 = []\n",
    "depth4 = []            \n",
    "            \n",
    "fileName4 = 'TKDpaper/txt_files/Ik2_Ez_ondet_20tilt_10000.txt' \n",
    "print 'reading file', fileName4, '......'\n",
    "\n",
    "with open(fileName4, \"r\") as data:\n",
    "    for line in data: #read one line at a time\n",
    "        if ('Total' not in line) and ('Number' not in line): \n",
    "            column = line.replace(':',' ').replace(',',' ').split()\n",
    "            energy4.append(float(column[1]))\n",
    "            depth4.append(float(column[2]))            "
   ]
  },
  {
   "cell_type": "code",
   "execution_count": 4,
   "metadata": {
    "collapsed": false,
    "deletable": true,
    "editable": true
   },
   "outputs": [],
   "source": [
    "def kde_scipy( vals1, vals2, (a,b), (c,d), N, bw ):\n",
    "    x = np.linspace(a,b,N)\n",
    "    y = np.linspace(c,d,N)\n",
    "    X,Y = np.meshgrid(x,y)\n",
    "    positions = np.vstack([Y.ravel(), X.ravel()])\n",
    "\n",
    "    values = np.vstack([vals1, vals2])\n",
    "    kernel = st.gaussian_kde(values, bw_method = bw)\n",
    "    Z = np.reshape(kernel(positions).T, X.shape)\n",
    "\n",
    "    return [x, y, Z]\n",
    "\n",
    "\n",
    "def make_kdetrace(varX, varY, (a,b), (c,d), N, bw, colorsc):\n",
    "    x, y, Z = kde_scipy(varY, varX, (a,b), (c,d), N, bw )\n",
    "\n",
    "    trace = go.Contour(\n",
    "           z=Z,\n",
    "           x=x,\n",
    "           y=y,\n",
    "           colorscale=colorsc,\n",
    "           #reversescale=True,\n",
    "           opacity=0.9,\n",
    "           ncontours=20,\n",
    "           contours=dict(\n",
    "                coloring='fill', \n",
    "                showlines=False, \n",
    "                start=0.001, \n",
    "                end = 0.7\n",
    "           ), \n",
    "            line=dict(\n",
    "                width=0.5, \n",
    "                   ), \n",
    "            zauto=False,\n",
    "            zmax=0.7\n",
    "           \n",
    "       )\n",
    "\n",
    "    return trace\n",
    "\n",
    "\n",
    "def make_kdePercLines(varX, varY, (a,b), (c,d), N, bw, colorsc):\n",
    "    \n",
    "    x, y, Z = kde_scipy(varY, varX, (a,b), (c,d), N, bw )\n",
    "\n",
    "    # show percentage contours\n",
    "    Zp = Z / Z.sum()\n",
    "    \n",
    "    n = 100\n",
    "    t = np.linspace(0, Zp.max(), n)\n",
    "    integral = ((Zp >= t[:, None, None]) * Zp).sum(axis=(1,2))\n",
    "\n",
    "    f = interpolate.interp1d(integral, t)\n",
    "    t_contours = f(np.array([0.9, 0.8, 0.7, 0.6, 0.5, 0.4])) # t_contours are the margins of an area containing a percentage of the points\n",
    "\n",
    "    traces = dict()\n",
    "    for index, t in enumerate(t_contours):\n",
    "        # one percentage contour at a time\n",
    "        traces[str(index)] = go.Contour(\n",
    "                   x=x,\n",
    "                   y=y,\n",
    "                   z=Zp,\n",
    "                   opacity=0.5,\n",
    "                   showlegend=False,\n",
    "                   autocontour=False,\n",
    "                   autocolorscale=False,\n",
    "                   colorscale=colorsc,\n",
    "                   ncontours=1,\n",
    "                   contours=dict(\n",
    "                       coloring='lines',\n",
    "                       \n",
    "                       start=t_contours[index], \n",
    "                       end = t_contours[index]+1\n",
    "                   ),\n",
    "                   line=dict(\n",
    "                        width=2.5, \n",
    "                   ), \n",
    "                   showscale=False\n",
    "               )\n",
    "        \n",
    "    #\n",
    "\n",
    "    return traces\n"
   ]
  },
  {
   "cell_type": "code",
   "execution_count": 5,
   "metadata": {
    "collapsed": true,
    "deletable": true,
    "editable": true
   },
   "outputs": [],
   "source": [
    "purples=[[0.0,   '#fcf9f7'],\n",
    " [0.1666666666666666, '#edcfc9'],\n",
    " [0.3333333333333333, '#daa2ac'],\n",
    " [0.5,                '#bc7897'],\n",
    " [0.6666666666666666, '#925684'],\n",
    " [0.8333333333333333, '#5f3868'],\n",
    " [1.0,                '#2d1e3e']]\n",
    "\n"
   ]
  },
  {
   "cell_type": "code",
   "execution_count": null,
   "metadata": {
    "collapsed": true
   },
   "outputs": [],
   "source": [
    "x1, x2 = (0, 25)\n",
    "y1, y2 = (17, 20)\n",
    "\n",
    "N = 200  # point to sample on a mesh for the KDE\n",
    "bw = 0.2 # bandwidth"
   ]
  },
  {
   "cell_type": "code",
   "execution_count": 6,
   "metadata": {
    "collapsed": false,
    "deletable": true,
    "editable": true
   },
   "outputs": [
    {
     "data": {
      "text/html": [
       "<iframe id=\"igraph\" scrolling=\"no\" style=\"border:none;\" seamless=\"seamless\" src=\"https://plot.ly/~elena.pascal/866.embed\" height=\"380px\" width=\"450px\"></iframe>"
      ],
      "text/plain": [
       "<plotly.tools.PlotlyDisplay object>"
      ]
     },
     "execution_count": 6,
     "metadata": {},
     "output_type": "execute_result"
    }
   ],
   "source": [
    "P_contours1 = make_kdePercLines(depth1, energy1, (x1, x2), (y1, y2), N, bw, 'Greys' )\n",
    "KDEtrace1 = make_kdetrace(depth1, energy1, (x1, x2), (y1, y2), N, bw, purples)\n",
    "\n",
    "layoutKDE1 =  go.Layout(xaxis = dict(title = 'escape depth (nm)'), \n",
    "                    yaxis = dict(title = 'escape energy (keV)'),\n",
    "                    title = '100nm thin film sample',\n",
    "                    showlegend=False,   \n",
    "                    paper_bgcolor='rgba(0,0,0,0)',\n",
    "                    plot_bgcolor='rgba(0,0,0,0)')\n",
    "\n",
    "\n",
    "layout = go.Layout(\n",
    "    autosize=False,\n",
    "    width=450,\n",
    "    height=380,\n",
    "    showlegend=False, \n",
    "    xaxis=dict(\n",
    "        titlefont=dict(\n",
    "          family='Times New Roman',\n",
    "          size=14\n",
    "        ),\n",
    "        range=[0, 25],\n",
    "        title='<b>Escape distance (mm)<b>', \n",
    "        mirror=\"ticks\",\n",
    "        showgrid=False,\n",
    "        showline=True,\n",
    "        ticks='inside',\n",
    "        ticktext=['<b>0<b>','<b>5<b>', '<b>10<b>', '<b>15<b>', '<b>20<b>', '<b>25<b>' ], \n",
    "        tickvals=[0, 5, 10, 15, 20, 25],\n",
    "        zeroline=False,\n",
    "        tickfont=dict(\n",
    "          family='Times New Roman',\n",
    "          size=14\n",
    "        ),\n",
    "    ),\n",
    "    yaxis=dict(\n",
    "        titlefont=dict(\n",
    "        family='Times New Roman',\n",
    "        size=14\n",
    "        ),\n",
    "        range=[17, 20],\n",
    "        #tickvals = [0, 1],\n",
    "        mirror=\"ticks\",\n",
    "        showgrid=False,\n",
    "        showline=True,\n",
    "        title='<b>Escape energy (keV) <b>', \n",
    "        ticks='inside',\n",
    "        ticktext=['<b>16<b>','<b>17<b>', '<b>18<b>', '<b>19<b>', '<b>20<b>'], \n",
    "        tickvals=[16, 17, 18, 19, 20],\n",
    "        tickfont=dict(\n",
    "          family='Times New Roman',\n",
    "          size=14\n",
    "        ),\n",
    "    ),\n",
    "    legend=dict(\n",
    "          x=.1, y=0.3,\n",
    "          font= dict(\n",
    "              family='Times New Roman',\n",
    "              size=16)\n",
    "     ),\n",
    "    paper_bgcolor='rgba(0,0,0,0)',\n",
    "    plot_bgcolor='rgba(0,0,0,0)'\n",
    ")    \n",
    "\n",
    "\n",
    "data1 = [ KDEtrace1, P_contours1[str(0)]]\n",
    "figureKDE1 = go.Figure(data=data1, layout= layout)\n",
    "\n",
    "py.iplot(figureKDE1)\n",
    "#py.image.save_as(figureKDE, filename='TKDpaper/TKD100KDE.svg')"
   ]
  },
  {
   "cell_type": "code",
   "execution_count": 7,
   "metadata": {
    "collapsed": false,
    "deletable": true,
    "editable": true
   },
   "outputs": [
    {
     "data": {
      "text/html": [
       "<iframe id=\"igraph\" scrolling=\"no\" style=\"border:none;\" seamless=\"seamless\" src=\"https://plot.ly/~elena.pascal/868.embed\" height=\"380px\" width=\"450px\"></iframe>"
      ],
      "text/plain": [
       "<plotly.tools.PlotlyDisplay object>"
      ]
     },
     "execution_count": 7,
     "metadata": {},
     "output_type": "execute_result"
    }
   ],
   "source": [
    "P_contours2 = make_kdePercLines(depth2, energy2, (x1, x2), (y1, y2), N, bw, 'Greys')\n",
    "KDEtrace2 = make_kdetrace(depth2, energy2, (x1, x2), (y1, y2), N, bw, purples )\n",
    "\n",
    "\n",
    "\n",
    "\n",
    "data2 = [ KDEtrace2, P_contours2[str(0)]]\n",
    "figureKDE2 = go.Figure(data=data2, layout= layout)\n",
    "\n",
    "py.iplot(figureKDE2)\n",
    "#py.image.save_as(figureKDE, filename='TKDpaper/TKD100KDE.svg')"
   ]
  },
  {
   "cell_type": "code",
   "execution_count": 11,
   "metadata": {
    "collapsed": false,
    "deletable": true,
    "editable": true
   },
   "outputs": [
    {
     "data": {
      "text/html": [
       "<iframe id=\"igraph\" scrolling=\"no\" style=\"border:none;\" seamless=\"seamless\" src=\"https://plot.ly/~elena.pascal/870.embed\" height=\"380px\" width=\"450px\"></iframe>"
      ],
      "text/plain": [
       "<plotly.tools.PlotlyDisplay object>"
      ]
     },
     "execution_count": 11,
     "metadata": {},
     "output_type": "execute_result"
    }
   ],
   "source": [
    "P_contours3 = make_kdePercLines(depth3, energy3, (x1, x2), (y1, y2), N, bw, 'Greys')\n",
    "KDEtrace3 = make_kdetrace(depth3, energy3, (x1, x2), (y1, y2), N, bw, purples )\n",
    "\n",
    "\n",
    "\n",
    "\n",
    "data3 = [ KDEtrace3, P_contours3[str(0)]]\n",
    "figureKDE3 = go.Figure(data=data3, layout= layout)\n",
    "\n",
    "py.iplot(figureKDE3)\n",
    "#py.image.save_as(figureKDE, filename='TKDpaper/TKD100KDE.svg')"
   ]
  },
  {
   "cell_type": "code",
   "execution_count": 12,
   "metadata": {
    "collapsed": false,
    "deletable": true,
    "editable": true
   },
   "outputs": [
    {
     "data": {
      "text/html": [
       "<iframe id=\"igraph\" scrolling=\"no\" style=\"border:none;\" seamless=\"seamless\" src=\"https://plot.ly/~elena.pascal/872.embed\" height=\"380px\" width=\"450px\"></iframe>"
      ],
      "text/plain": [
       "<plotly.tools.PlotlyDisplay object>"
      ]
     },
     "execution_count": 12,
     "metadata": {},
     "output_type": "execute_result"
    }
   ],
   "source": [
    "P_contours4 = make_kdePercLines(depth4, energy4, (x1, x2), (y1, y2), N, bw, 'Greys')\n",
    "KDEtrace4 = make_kdetrace(depth4, energy4, (x1, x2), (y1, y2), N, bw, purples )\n",
    "\n",
    "\n",
    "\n",
    "\n",
    "data4 = [ KDEtrace4, P_contours4[str(0)]]\n",
    "figureKDE4 = go.Figure(data=data4, layout= layout)\n",
    "\n",
    "py.iplot(figureKDE4)\n",
    "#py.image.save_as(figureKDE, filename='TKDpaper/TKD100KDE.svg')"
   ]
  },
  {
   "cell_type": "code",
   "execution_count": null,
   "metadata": {
    "collapsed": true,
    "deletable": true,
    "editable": true
   },
   "outputs": [],
   "source": []
  }
 ],
 "metadata": {
  "kernelspec": {
   "display_name": "Python 2",
   "language": "python",
   "name": "python2"
  },
  "language_info": {
   "codemirror_mode": {
    "name": "ipython",
    "version": 2
   },
   "file_extension": ".py",
   "mimetype": "text/x-python",
   "name": "python",
   "nbconvert_exporter": "python",
   "pygments_lexer": "ipython2",
   "version": "2.7.12"
  }
 },
 "nbformat": 4,
 "nbformat_minor": 2
}
