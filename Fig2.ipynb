{
 "cells": [
  {
   "cell_type": "markdown",
   "metadata": {
    "deletable": true,
    "editable": true
   },
   "source": [
    "### This notebook can read a TKD txt file contining exit energies and depths and plot energy-depth KDE distributions "
   ]
  },
  {
   "cell_type": "code",
   "execution_count": 13,
   "metadata": {
    "collapsed": true,
    "deletable": true,
    "editable": true
   },
   "outputs": [],
   "source": [
    "import sys\n",
    "import h5py\n",
    "import pylab\n",
    "\n",
    "import numpy as np\n",
    " \n",
    "import plotly.plotly as py\n",
    "import plotly.graph_objs as go\n",
    "\n",
    "import scipy.stats as st      \n",
    "from scipy import interpolate"
   ]
  },
  {
   "cell_type": "markdown",
   "metadata": {
    "collapsed": true,
    "deletable": true,
    "editable": true
   },
   "source": [
    "#### Read the energy data from the file"
   ]
  },
  {
   "cell_type": "code",
   "execution_count": 3,
   "metadata": {
    "collapsed": false,
    "deletable": true,
    "editable": true
   },
   "outputs": [],
   "source": [
    "energy_100 = []\n",
    "depth_100 = []\n",
    "\n",
    "fileName100 = 'TKDpaper/txt_files/TKD100_10000.txt'\n",
    "\n",
    "with open(fileName100, \"r\") as data:\n",
    "    for line in data: #read one line at a time\n",
    "        column = line.replace(':',' ').replace(',',' ').split()\n",
    "        energy_100.append(float(column[0]))\n",
    "        depth_100.append(float(column[1]))"
   ]
  },
  {
   "cell_type": "code",
   "execution_count": 4,
   "metadata": {
    "collapsed": false,
    "deletable": true,
    "editable": true
   },
   "outputs": [],
   "source": [
    "energy_200 = []\n",
    "depth_200 = []\n",
    "\n",
    "fileName200 = 'TKDpaper/txt_files/TKD200_10000.txt'\n",
    "\n",
    "with open(fileName200, \"r\") as data200:\n",
    "    for line in data200: #read one line at a time\n",
    "        if ('Total' not in line) and ('Number' not in line): \n",
    "            column = line.replace(':',' ').replace(',',' ').split()\n",
    "            energy_200.append(float(column[0]))\n",
    "            depth_200.append(float(column[1]))\n"
   ]
  },
  {
   "cell_type": "markdown",
   "metadata": {
    "collapsed": true,
    "deletable": true,
    "editable": true
   },
   "source": [
    "#### KDE function and 90% line"
   ]
  },
  {
   "cell_type": "code",
   "execution_count": 14,
   "metadata": {
    "collapsed": false,
    "deletable": true,
    "editable": true
   },
   "outputs": [],
   "source": [
    "def kde_scipy( vals1, vals2, (a,b), (c,d), N, bw ):\n",
    "    x = np.linspace(a,b,N)\n",
    "    y = np.linspace(c,d,N)\n",
    "    X,Y = np.meshgrid(x,y)\n",
    "    positions = np.vstack([Y.ravel(), X.ravel()])\n",
    "\n",
    "    values = np.vstack([vals1, vals2])\n",
    "    kernel = st.gaussian_kde(values, bw_method = bw)\n",
    "    Z = np.reshape(kernel(positions).T, X.shape)\n",
    "\n",
    "    return [x, y, Z]\n",
    "\n",
    "\n",
    "def make_kdetrace(varX, varY, (a,b), (c,d), N, bw, colorsc):\n",
    "    x, y, Z = kde_scipy(varY, varX, (a,b), (c,d), N, bw )\n",
    "\n",
    "    trace = go.Contour(\n",
    "           z=Z,\n",
    "           x=x,\n",
    "           y=y,\n",
    "           colorscale=colorsc,\n",
    "           #reversescale=True,\n",
    "           opacity=0.9,\n",
    "           ncontours=20,\n",
    "           contours=dict(\n",
    "                coloring='fill', \n",
    "                showlines=False, \n",
    "                start=0.001, \n",
    "                end = 0.5\n",
    "           ), \n",
    "            line=dict(\n",
    "                width=0.5, \n",
    "                   ), \n",
    "            zauto=False,\n",
    "            zmax=0.5\n",
    "           \n",
    "       )\n",
    "\n",
    "    \n",
    "    return trace\n",
    "\n",
    "\n",
    "def make_kdePercLines(varX, varY, (a,b), (c,d), N, bw, colorsc):\n",
    "    \n",
    "    x, y, Z = kde_scipy(varY, varX, (a,b), (c,d), N, bw )\n",
    "\n",
    "    # show percentage contours\n",
    "    Zp = Z / Z.sum()\n",
    "    \n",
    "    n = 100\n",
    "    t = np.linspace(0, Zp.max(), n)\n",
    "    integral = ((Zp >= t[:, None, None]) * Zp).sum(axis=(1,2))\n",
    "\n",
    "    f = interpolate.interp1d(integral, t)\n",
    "    t_contours = f(np.array([0.9, 0.8, 0.7, 0.6, 0.5, 0.4])) # t_contours are the margins of an area containing a percentage of the points\n",
    "\n",
    "    traces = dict()\n",
    "    for index, t in enumerate(t_contours):\n",
    "        # one percentage contour at a time\n",
    "        traces[str(index)] = go.Contour(\n",
    "                   x=x,\n",
    "                   y=y,\n",
    "                   z=Zp,\n",
    "                   opacity=0.5,\n",
    "                   showlegend=False,\n",
    "                   autocontour=False,\n",
    "                   autocolorscale=False,\n",
    "                   colorscale=colorsc,\n",
    "                   ncontours=1,\n",
    "                   contours=dict(\n",
    "                       coloring='lines',\n",
    "                       \n",
    "                       start=t_contours[index], \n",
    "                       end = t_contours[index]+1\n",
    "                   ),\n",
    "                   line=dict(\n",
    "                        width=2.5, \n",
    "                   ), \n",
    "                   showscale=False\n",
    "               )\n",
    "\n",
    "\n",
    "    return traces\n"
   ]
  },
  {
   "cell_type": "markdown",
   "metadata": {},
   "source": [
    "#### Define a color scheme"
   ]
  },
  {
   "cell_type": "code",
   "execution_count": 15,
   "metadata": {
    "collapsed": false,
    "deletable": true,
    "editable": true
   },
   "outputs": [],
   "source": [
    "purples=[[0.0,   '#fcf9f7'],\n",
    " [0.1666666666666666, '#edcfc9'],\n",
    " [0.3333333333333333, '#daa2ac'],\n",
    " [0.5,                '#bc7897'],\n",
    " [0.6666666666666666, '#925684'],\n",
    " [0.8333333333333333, '#5f3868'],\n",
    " [1.0,                '#2d1e3e']]"
   ]
  },
  {
   "cell_type": "code",
   "execution_count": null,
   "metadata": {
    "collapsed": true
   },
   "outputs": [],
   "source": [
    "x1, x2 = (0, 25)  # depth range\n",
    "y1, y2 = (16, 20) # energy range\n",
    "\n",
    "N = 200  # point to sample on a mesh for the KDE\n",
    "bw = 0.3 # bandwidth"
   ]
  },
  {
   "cell_type": "markdown",
   "metadata": {},
   "source": [
    "#### KDE for 100 nm film "
   ]
  },
  {
   "cell_type": "code",
   "execution_count": 17,
   "metadata": {
    "collapsed": false,
    "deletable": true,
    "editable": true
   },
   "outputs": [
    {
     "data": {
      "text/html": [
       "<iframe id=\"igraph\" scrolling=\"no\" style=\"border:none;\" seamless=\"seamless\" src=\"https://plot.ly/~elena.pascal/1024.embed\" height=\"380px\" width=\"450px\"></iframe>"
      ],
      "text/plain": [
       "<plotly.tools.PlotlyDisplay object>"
      ]
     },
     "execution_count": 17,
     "metadata": {},
     "output_type": "execute_result"
    }
   ],
   "source": [
    "P_contours = make_kdePercLines(depth_100, energy_100, (x1, x2), (y1, y2), N, bw, 'Greys')\n",
    "KDEtrace = make_kdetrace(depth_100, energy_100, (x1, x2), (y1, y2), N, bw, purples)\n",
    "\n",
    "layoutKDE =  go.Layout(xaxis = dict(title = 'escape depth (nm)'), \n",
    "                    yaxis = dict(title = 'escape energy (keV)'),\n",
    "                    title = '100nm thin film sample',\n",
    "                    showlegend=False,   \n",
    "                    paper_bgcolor='rgba(0,0,0,0)',\n",
    "                    plot_bgcolor='rgba(0,0,0,0)')\n",
    "\n",
    "\n",
    "layout = go.Layout(\n",
    "    autosize=False,\n",
    "    width=450,\n",
    "    height=380,\n",
    "    showlegend=False, \n",
    "    xaxis=dict(\n",
    "        titlefont=dict(\n",
    "          family='Times New Roman',\n",
    "          size=14\n",
    "        ),\n",
    "        range=[0, 25],\n",
    "        title='<b>Escape distance (mm)<b>', \n",
    "        mirror=\"ticks\",\n",
    "        showgrid=False,\n",
    "        showline=True,\n",
    "        ticks='inside',\n",
    "        ticktext=['<b>0<b>','<b>5<b>', '<b>10<b>', '<b>15<b>', '<b>20<b>', '<b>25<b>' ], \n",
    "        tickvals=[0, 5, 10, 15, 20, 25],\n",
    "        zeroline=False,\n",
    "        tickfont=dict(\n",
    "          family='Times New Roman',\n",
    "          size=14\n",
    "        ),\n",
    "    ),\n",
    "    yaxis=dict(\n",
    "        titlefont=dict(\n",
    "        family='Times New Roman',\n",
    "        size=14\n",
    "        ),\n",
    "        range=[16, 20],\n",
    "        #tickvals = [0, 1],\n",
    "        mirror=\"ticks\",\n",
    "        showgrid=False,\n",
    "        showline=True,\n",
    "        title='<b>Escape energy (keV) <b>', \n",
    "        ticks='inside',\n",
    "        ticktext=['<b>16<b>','<b>17<b>', '<b>18<b>', '<b>19<b>', '<b>20<b>'], \n",
    "        tickvals=[16, 17, 18, 19, 20],\n",
    "        tickfont=dict(\n",
    "          family='Times New Roman',\n",
    "          size=14\n",
    "        ),\n",
    "    ),\n",
    "    legend=dict(\n",
    "          x=.1, y=0.3,\n",
    "          font= dict(\n",
    "              family='Times New Roman',\n",
    "              size=16)\n",
    "     ),\n",
    "    paper_bgcolor='rgba(0,0,0,0)',\n",
    "    plot_bgcolor='rgba(0,0,0,0)'\n",
    ")    \n",
    "\n",
    "\n",
    "data = [ KDEtrace, P_contours[str(0)]]\n",
    "figureKDE = go.Figure(data=data, layout= layout)\n",
    "\n",
    "py.iplot(figureKDE)\n",
    "#py.image.save_as(figureKDE, filename='TKDpaper/TKD100KDE.svg')"
   ]
  },
  {
   "cell_type": "markdown",
   "metadata": {},
   "source": [
    "#### KDE for 200 nm film \n"
   ]
  },
  {
   "cell_type": "code",
   "execution_count": 18,
   "metadata": {
    "collapsed": false,
    "deletable": true,
    "editable": true
   },
   "outputs": [
    {
     "data": {
      "text/html": [
       "<iframe id=\"igraph\" scrolling=\"no\" style=\"border:none;\" seamless=\"seamless\" src=\"https://plot.ly/~elena.pascal/1026.embed\" height=\"380px\" width=\"450px\"></iframe>"
      ],
      "text/plain": [
       "<plotly.tools.PlotlyDisplay object>"
      ]
     },
     "execution_count": 18,
     "metadata": {},
     "output_type": "execute_result"
    }
   ],
   "source": [
    "P_contours = make_kdePercLines(depth_200, energy_200, (x1, x2), (y1, y2), N, bw, 'Greys')\n",
    "KDEtrace = make_kdetrace(depth_200, energy_200, (x1, x2), (y1, y2), N, bw, purples)\n",
    "\n",
    "data = [ KDEtrace, P_contours[str(0)]]\n",
    "figureKDE = go.Figure(data=data, layout= layout)\n",
    "\n",
    "\n",
    "py.iplot(figureKDE)\n",
    "#py.image.save_as(figureKDE, filename='TKDpaper/TKD200KDE.svg')\n"
   ]
  },
  {
   "cell_type": "code",
   "execution_count": null,
   "metadata": {
    "collapsed": true,
    "deletable": true,
    "editable": true
   },
   "outputs": [],
   "source": []
  }
 ],
 "metadata": {
  "kernelspec": {
   "display_name": "Python 2",
   "language": "python",
   "name": "python2"
  },
  "language_info": {
   "codemirror_mode": {
    "name": "ipython",
    "version": 2
   },
   "file_extension": ".py",
   "mimetype": "text/x-python",
   "name": "python",
   "nbconvert_exporter": "python",
   "pygments_lexer": "ipython2",
   "version": "2.7.12"
  }
 },
 "nbformat": 4,
 "nbformat_minor": 2
}
