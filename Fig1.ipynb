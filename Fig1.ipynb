{
 "cells": [
  {
   "cell_type": "markdown",
   "metadata": {},
   "source": [
    "### This notebook can read a TKD h5 file and plot \"energy filtered\" Stereographic Projections of exiting electorns "
   ]
  },
  {
   "cell_type": "code",
   "execution_count": 16,
   "metadata": {
    "collapsed": true,
    "deletable": true,
    "editable": true
   },
   "outputs": [],
   "source": [
    "import sys\n",
    "import h5py\n",
    "import pylab\n",
    "\n",
    "import numpy as np\n",
    " \n",
    "import plotly.plotly as py\n",
    "import plotly.graph_objs as go\n"
   ]
  },
  {
   "cell_type": "markdown",
   "metadata": {
    "collapsed": true,
    "deletable": true,
    "editable": true
   },
   "source": [
    "#### Read the energy data from the file"
   ]
  },
  {
   "cell_type": "code",
   "execution_count": 11,
   "metadata": {
    "collapsed": false,
    "deletable": true,
    "editable": true
   },
   "outputs": [],
   "source": [
    "fileName_notilt = 'Fig1_Ni_TKD200_0tilt.h5'\n",
    "\n",
    "#open file to read only\n",
    "TKDfile1 = h5py.File(fileName_notilt, 'r')\n",
    "\n",
    "#save number of bins\n",
    "num_e_bins = TKDfile1['EMData']['MCfoil']['numEbins'][...]\n",
    "\n",
    "\n",
    "#save the energy bin electron matrix\n",
    "energy_data_notilt = np.zeros([num_e_bins[0],501,501])\n",
    "\n",
    "for i in range(0, num_e_bins[0]):\n",
    "    dataset =  TKDfile1['EMData']['MCfoil']['accum_e_SP'][...][:,:,i]\n",
    "    energy_data_notilt[i,:,:] = dataset\n",
    "\n",
    "TKDfile1.close()"
   ]
  },
  {
   "cell_type": "code",
   "execution_count": 14,
   "metadata": {
    "collapsed": false,
    "deletable": true,
    "editable": true
   },
   "outputs": [],
   "source": [
    "fileName_tilt = 'Fig1_Ni_TKD200_30tilt.h5'\n",
    "\n",
    "#open file to read only\n",
    "TKDfile2 = h5py.File(fileName_tilt, 'r')\n",
    "\n",
    "#save number of bins\n",
    "num_e_bins = TKDfile2['EMData']['MCfoil']['numEbins'][...]\n",
    "\n",
    "\n",
    "#save the energy bin electron matrix\n",
    "energy_data_tilt = np.zeros([num_e_bins[0],501,501])\n",
    "\n",
    "for i in range(0, num_e_bins[0]):\n",
    "    dataset =  TKDfile2['EMData']['MCfoil']['accum_e_SP'][...][:,:,i]\n",
    "    energy_data_tilt[i,:,:] = dataset\n",
    "\n",
    "TKDfile2.close()"
   ]
  },
  {
   "cell_type": "markdown",
   "metadata": {
    "collapsed": true,
    "deletable": true,
    "editable": true
   },
   "source": [
    "#### Plot the SPs"
   ]
  },
  {
   "cell_type": "code",
   "execution_count": 23,
   "metadata": {
    "collapsed": false,
    "deletable": true,
    "editable": true
   },
   "outputs": [],
   "source": [
    "#data =  energy_data_notilt\n",
    "data =  energy_data_tilt\n",
    "\n",
    "lowE = go.Heatmap(z=data[:5,:,:].sum(axis=0), colorscale='Greys', showscale=False, opacity = 0.9, zauto=False, reversescale=True,  zmax=1400 )\n",
    "midE = go.Heatmap(z=data[5:7,:,:].sum(axis=0), colorscale='Greys', showscale=False, opacity = 0.9, zauto=False, reversescale=True, zmax=1400)\n",
    "highE = go.Heatmap(z=data[7:,:,:].sum(axis=0), colorscale='Greys', showscale=False, opacity = 0.9, zauto=False, reversescale=True, zmax=1400)\n",
    "allE = go.Heatmap(z=data[:,:,:].sum(axis=0), colorscale='Greys', showscale=True, opacity = 0.8)\n",
    "\n",
    "\n",
    "# layout goes here\n",
    "layout = go.Layout(\n",
    "    autosize=False,\n",
    "    width=500,\n",
    "    height=500,\n",
    "    \n",
    "    xaxis=dict(\n",
    "           linecolor = 'gray',\n",
    "           showline = False,\n",
    "           zeroline = False,\n",
    "           #mirror=True,\n",
    "           showgrid=False,\n",
    "           ticks='', \n",
    "           showticklabels=False\n",
    "    ),\n",
    "    \n",
    "    yaxis=dict(\n",
    "           linecolor = 'gray',\n",
    "           showline = False, \n",
    "           zeroline = False,\n",
    "           #mirror=True,\n",
    "           showgrid=False, \n",
    "           ticks='', \n",
    "           showticklabels=False           \n",
    "    ),\n",
    "    \n",
    "    shapes= [{# vertical line\n",
    "            'type': 'line',\n",
    "            'x0': 250,\n",
    "            'y0': 0,\n",
    "            'x1': 250,\n",
    "            'y1': 501,\n",
    "            'line': {\n",
    "                'color': 'rgba(200, 200, 200, .4)',\n",
    "                'width': 1.2\n",
    "            }}, \n",
    "    \n",
    "             {# horizontal line\n",
    "            'type': 'line',\n",
    "            'x0': 0,\n",
    "            'y0': 250,\n",
    "            'x1': 501,\n",
    "            'y1': 250,\n",
    "            'line': {\n",
    "                'color': 'rgba(200, 200, 200, .4)',\n",
    "                'width': 1.2\n",
    "            }}\n",
    "    ],\n",
    "    \n",
    "    paper_bgcolor='rgba(0,0,0,0)',\n",
    "    plot_bgcolor='#fcf9f7'\n",
    ")    "
   ]
  },
  {
   "cell_type": "code",
   "execution_count": 24,
   "metadata": {
    "collapsed": false,
    "deletable": true,
    "editable": true
   },
   "outputs": [
    {
     "data": {
      "text/html": [
       "<iframe id=\"igraph\" scrolling=\"no\" style=\"border:none;\" seamless=\"seamless\" src=\"https://plot.ly/~elena.pascal/1012.embed\" height=\"500px\" width=\"500px\"></iframe>"
      ],
      "text/plain": [
       "<plotly.tools.PlotlyDisplay object>"
      ]
     },
     "execution_count": 24,
     "metadata": {},
     "output_type": "execute_result"
    }
   ],
   "source": [
    "# Low energy\n",
    "data1=[lowE]\n",
    "fig1=go.Figure(data=data1, layout=layout)\n",
    "\n",
    "\n",
    "py.iplot(fig1)   \n",
    "\n",
    "#py.image.save_as(fig1, filename='TKDpaper/30tilt_lowE.pdf')"
   ]
  },
  {
   "cell_type": "code",
   "execution_count": 25,
   "metadata": {
    "collapsed": false
   },
   "outputs": [
    {
     "data": {
      "text/html": [
       "<iframe id=\"igraph\" scrolling=\"no\" style=\"border:none;\" seamless=\"seamless\" src=\"https://plot.ly/~elena.pascal/1014.embed\" height=\"500px\" width=\"500px\"></iframe>"
      ],
      "text/plain": [
       "<plotly.tools.PlotlyDisplay object>"
      ]
     },
     "execution_count": 25,
     "metadata": {},
     "output_type": "execute_result"
    }
   ],
   "source": [
    "# Mid energy\n",
    "data2=[midE]\n",
    "fig2=go.Figure(data=data2, layout=layout)\n",
    "\n",
    "\n",
    "py.iplot(fig2)   \n",
    "\n",
    "#py.image.save_as(fig2, filename='TKDpaper/30tilt_midE.pdf')"
   ]
  },
  {
   "cell_type": "code",
   "execution_count": 26,
   "metadata": {
    "collapsed": false
   },
   "outputs": [
    {
     "data": {
      "text/html": [
       "<iframe id=\"igraph\" scrolling=\"no\" style=\"border:none;\" seamless=\"seamless\" src=\"https://plot.ly/~elena.pascal/1016.embed\" height=\"500px\" width=\"500px\"></iframe>"
      ],
      "text/plain": [
       "<plotly.tools.PlotlyDisplay object>"
      ]
     },
     "execution_count": 26,
     "metadata": {},
     "output_type": "execute_result"
    }
   ],
   "source": [
    "# High energy\n",
    "data3=[highE]\n",
    "fig3=go.Figure(data=data3, layout=layout)\n",
    "\n",
    "\n",
    "py.iplot(fig3)   \n",
    "\n",
    "#py.image.save_as(fig3, filename='TKDpaper/30tilt_highE.pdf')"
   ]
  },
  {
   "cell_type": "code",
   "execution_count": 28,
   "metadata": {
    "collapsed": false
   },
   "outputs": [
    {
     "data": {
      "text/html": [
       "<iframe id=\"igraph\" scrolling=\"no\" style=\"border:none;\" seamless=\"seamless\" src=\"https://plot.ly/~elena.pascal/1020.embed\" height=\"500px\" width=\"500px\"></iframe>"
      ],
      "text/plain": [
       "<plotly.tools.PlotlyDisplay object>"
      ]
     },
     "execution_count": 28,
     "metadata": {},
     "output_type": "execute_result"
    }
   ],
   "source": [
    "# All energies\n",
    "data4=[allE]\n",
    "fig4=go.Figure(data=data4, layout=layout)\n",
    "\n",
    "\n",
    "py.iplot(fig4)   \n",
    "\n",
    "#py.image.save_as(fig4, filename='TKDpaper/30tilt_allE.pdf')"
   ]
  },
  {
   "cell_type": "code",
   "execution_count": null,
   "metadata": {
    "collapsed": true
   },
   "outputs": [],
   "source": []
  }
 ],
 "metadata": {
  "kernelspec": {
   "display_name": "Python 2",
   "language": "python",
   "name": "python2"
  },
  "language_info": {
   "codemirror_mode": {
    "name": "ipython",
    "version": 2
   },
   "file_extension": ".py",
   "mimetype": "text/x-python",
   "name": "python",
   "nbconvert_exporter": "python",
   "pygments_lexer": "ipython2",
   "version": "2.7.12"
  }
 },
 "nbformat": 4,
 "nbformat_minor": 2
}
